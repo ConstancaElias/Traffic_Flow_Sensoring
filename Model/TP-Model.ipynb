{
 "cells": [
  {
   "cell_type": "code",
   "execution_count": 3,
   "id": "f77bfbdd",
   "metadata": {},
   "outputs": [],
   "source": [
    "import pandas as pd\n",
    "import matplotlib.pyplot as plt\n",
    "import seaborn as sns\n",
    "import numpy as np \n",
    "\n",
    "from sklearn.ensemble import RandomForestClassifier\n",
    "from sklearn.ensemble import GradientBoostingClassifier\n",
    "from sklearn.tree import DecisionTreeRegressor, DecisionTreeClassifier\n",
    "from sklearn.metrics import classification_report, confusion_matrix\n",
    "from sklearn.preprocessing import MinMaxScaler\n",
    "from sklearn.metrics import make_scorer, accuracy_score, precision_score, recall_score, f1_score\n",
    "from sklearn.model_selection import  cross_validate\n",
    "from sklearn.model_selection import train_test_split, cross_val_score, ShuffleSplit\n",
    "\n",
    "from sklearn.metrics import r2_score\n",
    "from sklearn.metrics import mean_squared_error\n",
    "from math import sqrt\n",
    "import datetime"
   ]
  },
  {
   "cell_type": "markdown",
   "id": "a1c6e928",
   "metadata": {},
   "source": [
    "## Read CSV"
   ]
  },
  {
   "cell_type": "code",
   "execution_count": 4,
   "id": "b7404c63",
   "metadata": {},
   "outputs": [],
   "source": [
    "#parse_dates = ['timestamp']"
   ]
  },
  {
   "cell_type": "code",
   "execution_count": 23,
   "id": "a45157d3",
   "metadata": {},
   "outputs": [
    {
     "name": "stdout",
     "output_type": "stream",
     "text": [
      "<class 'pandas.core.frame.DataFrame'>\n",
      "RangeIndex: 1385 entries, 0 to 1384\n",
      "Data columns (total 8 columns):\n",
      " #   Column              Non-Null Count  Dtype  \n",
      "---  ------              --------------  -----  \n",
      " 0   frc                 1385 non-null   object \n",
      " 1   currentSpeed        1385 non-null   int64  \n",
      " 2   freeFlowSpeed       1385 non-null   int64  \n",
      " 3   currentTravelTime   1385 non-null   int64  \n",
      " 4   freeFlowTravelTime  1385 non-null   int64  \n",
      " 5   confidence          1385 non-null   float64\n",
      " 6   roadClosure         1385 non-null   bool   \n",
      " 7   timestamp           1385 non-null   object \n",
      "dtypes: bool(1), float64(1), int64(4), object(2)\n",
      "memory usage: 77.2+ KB\n"
     ]
    }
   ],
   "source": [
    "convert = pd.read_csv('data_12-5_new.csv', sep = ',', encoding = 'utf-8')\n",
    "convert.head()\n",
    "convert.info()"
   ]
  },
  {
   "cell_type": "markdown",
   "id": "7332ddc1",
   "metadata": {},
   "source": [
    "## Fix timestamp"
   ]
  },
  {
   "cell_type": "code",
   "execution_count": 24,
   "id": "938ffc18",
   "metadata": {},
   "outputs": [
    {
     "data": {
      "text/html": [
       "<div>\n",
       "<style scoped>\n",
       "    .dataframe tbody tr th:only-of-type {\n",
       "        vertical-align: middle;\n",
       "    }\n",
       "\n",
       "    .dataframe tbody tr th {\n",
       "        vertical-align: top;\n",
       "    }\n",
       "\n",
       "    .dataframe thead th {\n",
       "        text-align: right;\n",
       "    }\n",
       "</style>\n",
       "<table border=\"1\" class=\"dataframe\">\n",
       "  <thead>\n",
       "    <tr style=\"text-align: right;\">\n",
       "      <th></th>\n",
       "      <th>frc</th>\n",
       "      <th>currentSpeed</th>\n",
       "      <th>freeFlowSpeed</th>\n",
       "      <th>currentTravelTime</th>\n",
       "      <th>freeFlowTravelTime</th>\n",
       "      <th>confidence</th>\n",
       "      <th>roadClosure</th>\n",
       "      <th>timestamp</th>\n",
       "    </tr>\n",
       "  </thead>\n",
       "  <tbody>\n",
       "    <tr>\n",
       "      <th>0</th>\n",
       "      <td>FRC2</td>\n",
       "      <td>33</td>\n",
       "      <td>44</td>\n",
       "      <td>51</td>\n",
       "      <td>38</td>\n",
       "      <td>0.96</td>\n",
       "      <td>False</td>\n",
       "      <td>2021-04-26 15</td>\n",
       "    </tr>\n",
       "    <tr>\n",
       "      <th>1</th>\n",
       "      <td>FRC2</td>\n",
       "      <td>44</td>\n",
       "      <td>44</td>\n",
       "      <td>38</td>\n",
       "      <td>38</td>\n",
       "      <td>0.95</td>\n",
       "      <td>False</td>\n",
       "      <td>2021-04-26 15</td>\n",
       "    </tr>\n",
       "    <tr>\n",
       "      <th>2</th>\n",
       "      <td>FRC2</td>\n",
       "      <td>44</td>\n",
       "      <td>44</td>\n",
       "      <td>38</td>\n",
       "      <td>38</td>\n",
       "      <td>0.95</td>\n",
       "      <td>False</td>\n",
       "      <td>2021-04-26 15</td>\n",
       "    </tr>\n",
       "    <tr>\n",
       "      <th>3</th>\n",
       "      <td>FRC2</td>\n",
       "      <td>44</td>\n",
       "      <td>44</td>\n",
       "      <td>38</td>\n",
       "      <td>38</td>\n",
       "      <td>0.95</td>\n",
       "      <td>False</td>\n",
       "      <td>2021-04-26 15</td>\n",
       "    </tr>\n",
       "    <tr>\n",
       "      <th>4</th>\n",
       "      <td>FRC2</td>\n",
       "      <td>32</td>\n",
       "      <td>43</td>\n",
       "      <td>53</td>\n",
       "      <td>39</td>\n",
       "      <td>0.97</td>\n",
       "      <td>False</td>\n",
       "      <td>2021-04-26 15</td>\n",
       "    </tr>\n",
       "  </tbody>\n",
       "</table>\n",
       "</div>"
      ],
      "text/plain": [
       "    frc  currentSpeed  freeFlowSpeed  currentTravelTime  freeFlowTravelTime  \\\n",
       "0  FRC2            33             44                 51                  38   \n",
       "1  FRC2            44             44                 38                  38   \n",
       "2  FRC2            44             44                 38                  38   \n",
       "3  FRC2            44             44                 38                  38   \n",
       "4  FRC2            32             43                 53                  39   \n",
       "\n",
       "   confidence  roadClosure      timestamp  \n",
       "0        0.96        False  2021-04-26 15  \n",
       "1        0.95        False  2021-04-26 15  \n",
       "2        0.95        False  2021-04-26 15  \n",
       "3        0.95        False  2021-04-26 15  \n",
       "4        0.97        False  2021-04-26 15  "
      ]
     },
     "execution_count": 24,
     "metadata": {},
     "output_type": "execute_result"
    }
   ],
   "source": [
    "convert['timestamp'] = convert['timestamp'].apply(lambda x: x[:-3])\n",
    "convert.head()\n",
    "#convert['timestamp'] = pd.to_datetime(convert['timestamp'])"
   ]
  },
  {
   "cell_type": "code",
   "execution_count": 25,
   "id": "b93670e6",
   "metadata": {},
   "outputs": [
    {
     "name": "stdout",
     "output_type": "stream",
     "text": [
      "<class 'pandas.core.frame.DataFrame'>\n",
      "RangeIndex: 1385 entries, 0 to 1384\n",
      "Data columns (total 8 columns):\n",
      " #   Column              Non-Null Count  Dtype  \n",
      "---  ------              --------------  -----  \n",
      " 0   frc                 1385 non-null   object \n",
      " 1   currentSpeed        1385 non-null   int64  \n",
      " 2   freeFlowSpeed       1385 non-null   int64  \n",
      " 3   currentTravelTime   1385 non-null   int64  \n",
      " 4   freeFlowTravelTime  1385 non-null   int64  \n",
      " 5   confidence          1385 non-null   float64\n",
      " 6   roadClosure         1385 non-null   bool   \n",
      " 7   timestamp           1385 non-null   object \n",
      "dtypes: bool(1), float64(1), int64(4), object(2)\n",
      "memory usage: 77.2+ KB\n"
     ]
    }
   ],
   "source": [
    "convert.info()"
   ]
  },
  {
   "cell_type": "code",
   "execution_count": 26,
   "id": "7b29edbd",
   "metadata": {},
   "outputs": [
    {
     "data": {
      "text/html": [
       "<div>\n",
       "<style scoped>\n",
       "    .dataframe tbody tr th:only-of-type {\n",
       "        vertical-align: middle;\n",
       "    }\n",
       "\n",
       "    .dataframe tbody tr th {\n",
       "        vertical-align: top;\n",
       "    }\n",
       "\n",
       "    .dataframe thead th {\n",
       "        text-align: right;\n",
       "    }\n",
       "</style>\n",
       "<table border=\"1\" class=\"dataframe\">\n",
       "  <thead>\n",
       "    <tr style=\"text-align: right;\">\n",
       "      <th></th>\n",
       "      <th>frc</th>\n",
       "      <th>currentSpeed</th>\n",
       "      <th>freeFlowSpeed</th>\n",
       "      <th>currentTravelTime</th>\n",
       "      <th>freeFlowTravelTime</th>\n",
       "      <th>confidence</th>\n",
       "      <th>roadClosure</th>\n",
       "      <th>timestamp</th>\n",
       "    </tr>\n",
       "  </thead>\n",
       "  <tbody>\n",
       "    <tr>\n",
       "      <th>0</th>\n",
       "      <td>FRC2</td>\n",
       "      <td>33</td>\n",
       "      <td>44</td>\n",
       "      <td>51</td>\n",
       "      <td>38</td>\n",
       "      <td>0.96</td>\n",
       "      <td>False</td>\n",
       "      <td>2021-04-26 15</td>\n",
       "    </tr>\n",
       "    <tr>\n",
       "      <th>1</th>\n",
       "      <td>FRC2</td>\n",
       "      <td>44</td>\n",
       "      <td>44</td>\n",
       "      <td>38</td>\n",
       "      <td>38</td>\n",
       "      <td>0.95</td>\n",
       "      <td>False</td>\n",
       "      <td>2021-04-26 15</td>\n",
       "    </tr>\n",
       "    <tr>\n",
       "      <th>2</th>\n",
       "      <td>FRC2</td>\n",
       "      <td>44</td>\n",
       "      <td>44</td>\n",
       "      <td>38</td>\n",
       "      <td>38</td>\n",
       "      <td>0.95</td>\n",
       "      <td>False</td>\n",
       "      <td>2021-04-26 15</td>\n",
       "    </tr>\n",
       "    <tr>\n",
       "      <th>3</th>\n",
       "      <td>FRC2</td>\n",
       "      <td>44</td>\n",
       "      <td>44</td>\n",
       "      <td>38</td>\n",
       "      <td>38</td>\n",
       "      <td>0.95</td>\n",
       "      <td>False</td>\n",
       "      <td>2021-04-26 15</td>\n",
       "    </tr>\n",
       "    <tr>\n",
       "      <th>4</th>\n",
       "      <td>FRC2</td>\n",
       "      <td>32</td>\n",
       "      <td>43</td>\n",
       "      <td>53</td>\n",
       "      <td>39</td>\n",
       "      <td>0.97</td>\n",
       "      <td>False</td>\n",
       "      <td>2021-04-26 15</td>\n",
       "    </tr>\n",
       "  </tbody>\n",
       "</table>\n",
       "</div>"
      ],
      "text/plain": [
       "    frc  currentSpeed  freeFlowSpeed  currentTravelTime  freeFlowTravelTime  \\\n",
       "0  FRC2            33             44                 51                  38   \n",
       "1  FRC2            44             44                 38                  38   \n",
       "2  FRC2            44             44                 38                  38   \n",
       "3  FRC2            44             44                 38                  38   \n",
       "4  FRC2            32             43                 53                  39   \n",
       "\n",
       "   confidence  roadClosure      timestamp  \n",
       "0        0.96        False  2021-04-26 15  \n",
       "1        0.95        False  2021-04-26 15  \n",
       "2        0.95        False  2021-04-26 15  \n",
       "3        0.95        False  2021-04-26 15  \n",
       "4        0.97        False  2021-04-26 15  "
      ]
     },
     "execution_count": 26,
     "metadata": {},
     "output_type": "execute_result"
    }
   ],
   "source": [
    "convert.head()"
   ]
  },
  {
   "cell_type": "code",
   "execution_count": 27,
   "id": "a4db9872",
   "metadata": {},
   "outputs": [
    {
     "data": {
      "text/html": [
       "<div>\n",
       "<style scoped>\n",
       "    .dataframe tbody tr th:only-of-type {\n",
       "        vertical-align: middle;\n",
       "    }\n",
       "\n",
       "    .dataframe tbody tr th {\n",
       "        vertical-align: top;\n",
       "    }\n",
       "\n",
       "    .dataframe thead th {\n",
       "        text-align: right;\n",
       "    }\n",
       "</style>\n",
       "<table border=\"1\" class=\"dataframe\">\n",
       "  <thead>\n",
       "    <tr style=\"text-align: right;\">\n",
       "      <th></th>\n",
       "      <th>currentSpeed</th>\n",
       "      <th>freeFlowSpeed</th>\n",
       "      <th>currentTravelTime</th>\n",
       "      <th>freeFlowTravelTime</th>\n",
       "      <th>confidence</th>\n",
       "    </tr>\n",
       "  </thead>\n",
       "  <tbody>\n",
       "    <tr>\n",
       "      <th>count</th>\n",
       "      <td>1385.000000</td>\n",
       "      <td>1385.000000</td>\n",
       "      <td>1385.000000</td>\n",
       "      <td>1385.000000</td>\n",
       "      <td>1385.000000</td>\n",
       "    </tr>\n",
       "    <tr>\n",
       "      <th>mean</th>\n",
       "      <td>39.478700</td>\n",
       "      <td>43.683032</td>\n",
       "      <td>45.553791</td>\n",
       "      <td>38.316968</td>\n",
       "      <td>0.956390</td>\n",
       "    </tr>\n",
       "    <tr>\n",
       "      <th>std</th>\n",
       "      <td>7.578378</td>\n",
       "      <td>0.488192</td>\n",
       "      <td>19.221523</td>\n",
       "      <td>0.488192</td>\n",
       "      <td>0.046207</td>\n",
       "    </tr>\n",
       "    <tr>\n",
       "      <th>min</th>\n",
       "      <td>6.000000</td>\n",
       "      <td>42.000000</td>\n",
       "      <td>38.000000</td>\n",
       "      <td>36.000000</td>\n",
       "      <td>0.510000</td>\n",
       "    </tr>\n",
       "    <tr>\n",
       "      <th>25%</th>\n",
       "      <td>34.000000</td>\n",
       "      <td>43.000000</td>\n",
       "      <td>38.000000</td>\n",
       "      <td>38.000000</td>\n",
       "      <td>0.950000</td>\n",
       "    </tr>\n",
       "    <tr>\n",
       "      <th>50%</th>\n",
       "      <td>44.000000</td>\n",
       "      <td>44.000000</td>\n",
       "      <td>38.000000</td>\n",
       "      <td>38.000000</td>\n",
       "      <td>0.970000</td>\n",
       "    </tr>\n",
       "    <tr>\n",
       "      <th>75%</th>\n",
       "      <td>44.000000</td>\n",
       "      <td>44.000000</td>\n",
       "      <td>49.000000</td>\n",
       "      <td>39.000000</td>\n",
       "      <td>0.980000</td>\n",
       "    </tr>\n",
       "    <tr>\n",
       "      <th>max</th>\n",
       "      <td>44.000000</td>\n",
       "      <td>46.000000</td>\n",
       "      <td>282.000000</td>\n",
       "      <td>40.000000</td>\n",
       "      <td>1.000000</td>\n",
       "    </tr>\n",
       "  </tbody>\n",
       "</table>\n",
       "</div>"
      ],
      "text/plain": [
       "       currentSpeed  freeFlowSpeed  currentTravelTime  freeFlowTravelTime  \\\n",
       "count   1385.000000    1385.000000        1385.000000         1385.000000   \n",
       "mean      39.478700      43.683032          45.553791           38.316968   \n",
       "std        7.578378       0.488192          19.221523            0.488192   \n",
       "min        6.000000      42.000000          38.000000           36.000000   \n",
       "25%       34.000000      43.000000          38.000000           38.000000   \n",
       "50%       44.000000      44.000000          38.000000           38.000000   \n",
       "75%       44.000000      44.000000          49.000000           39.000000   \n",
       "max       44.000000      46.000000         282.000000           40.000000   \n",
       "\n",
       "        confidence  \n",
       "count  1385.000000  \n",
       "mean      0.956390  \n",
       "std       0.046207  \n",
       "min       0.510000  \n",
       "25%       0.950000  \n",
       "50%       0.970000  \n",
       "75%       0.980000  \n",
       "max       1.000000  "
      ]
     },
     "execution_count": 27,
     "metadata": {},
     "output_type": "execute_result"
    }
   ],
   "source": [
    "convert.describe()"
   ]
  },
  {
   "cell_type": "code",
   "execution_count": 28,
   "id": "8bedbe38",
   "metadata": {},
   "outputs": [],
   "source": [
    "convert = convert.groupby('timestamp').mean()"
   ]
  },
  {
   "cell_type": "code",
   "execution_count": 29,
   "id": "675ee8bb",
   "metadata": {},
   "outputs": [
    {
     "data": {
      "text/html": [
       "<div>\n",
       "<style scoped>\n",
       "    .dataframe tbody tr th:only-of-type {\n",
       "        vertical-align: middle;\n",
       "    }\n",
       "\n",
       "    .dataframe tbody tr th {\n",
       "        vertical-align: top;\n",
       "    }\n",
       "\n",
       "    .dataframe thead th {\n",
       "        text-align: right;\n",
       "    }\n",
       "</style>\n",
       "<table border=\"1\" class=\"dataframe\">\n",
       "  <thead>\n",
       "    <tr style=\"text-align: right;\">\n",
       "      <th></th>\n",
       "      <th>currentSpeed</th>\n",
       "      <th>freeFlowSpeed</th>\n",
       "      <th>currentTravelTime</th>\n",
       "      <th>freeFlowTravelTime</th>\n",
       "      <th>confidence</th>\n",
       "      <th>roadClosure</th>\n",
       "    </tr>\n",
       "    <tr>\n",
       "      <th>timestamp</th>\n",
       "      <th></th>\n",
       "      <th></th>\n",
       "      <th></th>\n",
       "      <th></th>\n",
       "      <th></th>\n",
       "      <th></th>\n",
       "    </tr>\n",
       "  </thead>\n",
       "  <tbody>\n",
       "    <tr>\n",
       "      <th>2021-04-26 0</th>\n",
       "      <td>44.000000</td>\n",
       "      <td>44.000000</td>\n",
       "      <td>38.000000</td>\n",
       "      <td>38.000000</td>\n",
       "      <td>0.860000</td>\n",
       "      <td>False</td>\n",
       "    </tr>\n",
       "    <tr>\n",
       "      <th>2021-04-26 15</th>\n",
       "      <td>40.166667</td>\n",
       "      <td>43.833333</td>\n",
       "      <td>42.666667</td>\n",
       "      <td>38.166667</td>\n",
       "      <td>0.958333</td>\n",
       "      <td>False</td>\n",
       "    </tr>\n",
       "    <tr>\n",
       "      <th>2021-04-26 16</th>\n",
       "      <td>38.666667</td>\n",
       "      <td>43.500000</td>\n",
       "      <td>44.833333</td>\n",
       "      <td>38.500000</td>\n",
       "      <td>0.965000</td>\n",
       "      <td>False</td>\n",
       "    </tr>\n",
       "    <tr>\n",
       "      <th>2021-04-26 17</th>\n",
       "      <td>34.000000</td>\n",
       "      <td>43.666667</td>\n",
       "      <td>50.500000</td>\n",
       "      <td>38.333333</td>\n",
       "      <td>0.966667</td>\n",
       "      <td>False</td>\n",
       "    </tr>\n",
       "    <tr>\n",
       "      <th>2021-04-26 18</th>\n",
       "      <td>27.666667</td>\n",
       "      <td>43.500000</td>\n",
       "      <td>61.000000</td>\n",
       "      <td>38.500000</td>\n",
       "      <td>0.970000</td>\n",
       "      <td>False</td>\n",
       "    </tr>\n",
       "  </tbody>\n",
       "</table>\n",
       "</div>"
      ],
      "text/plain": [
       "               currentSpeed  freeFlowSpeed  currentTravelTime  \\\n",
       "timestamp                                                       \n",
       "2021-04-26 0      44.000000      44.000000          38.000000   \n",
       "2021-04-26 15     40.166667      43.833333          42.666667   \n",
       "2021-04-26 16     38.666667      43.500000          44.833333   \n",
       "2021-04-26 17     34.000000      43.666667          50.500000   \n",
       "2021-04-26 18     27.666667      43.500000          61.000000   \n",
       "\n",
       "               freeFlowTravelTime  confidence  roadClosure  \n",
       "timestamp                                                   \n",
       "2021-04-26 0            38.000000    0.860000        False  \n",
       "2021-04-26 15           38.166667    0.958333        False  \n",
       "2021-04-26 16           38.500000    0.965000        False  \n",
       "2021-04-26 17           38.333333    0.966667        False  \n",
       "2021-04-26 18           38.500000    0.970000        False  "
      ]
     },
     "execution_count": 29,
     "metadata": {},
     "output_type": "execute_result"
    }
   ],
   "source": [
    "convert.head()"
   ]
  },
  {
   "cell_type": "code",
   "execution_count": 30,
   "id": "71f7ead9",
   "metadata": {},
   "outputs": [],
   "source": [
    "convert = convert.drop(columns = ['roadClosure'])"
   ]
  },
  {
   "cell_type": "markdown",
   "id": "45bbcb58",
   "metadata": {},
   "source": [
    "## Visualize Data "
   ]
  },
  {
   "cell_type": "code",
   "execution_count": 31,
   "id": "66307c79",
   "metadata": {},
   "outputs": [
    {
     "data": {
      "image/png": "[encoded data removed]",
      "text/plain": [
       "<Figure size 432x288 with 1 Axes>"
      ]
     },
     "metadata": {
      "needs_background": "light"
     },
     "output_type": "display_data"
    }
   ],
   "source": [
    "df = convert.mean().plot(kind='bar')"
   ]
  },
  {
   "cell_type": "markdown",
   "id": "8894780a",
   "metadata": {},
   "source": [
    "## Normalize data"
   ]
  },
  {
   "cell_type": "code",
   "execution_count": 32,
   "id": "f33e19f4",
   "metadata": {},
   "outputs": [],
   "source": [
    "scaler_freeFlow = MinMaxScaler()\n",
    "scaler_currentTravelTime = MinMaxScaler()\n",
    "scaler_freeFlowTravel = MinMaxScaler()\n",
    "scaler_currentSpeed = MinMaxScaler()\n",
    "\n",
    "\n",
    "convert[['freeFlowSpeed']] =  scaler_freeFlow.fit_transform(convert[['freeFlowSpeed']])\n",
    "convert[['currentTravelTime']] =  scaler_currentTravelTime.fit_transform(convert[['currentTravelTime']])\n",
    "convert[['freeFlowTravelTime']] =  scaler_freeFlowTravel.fit_transform(convert[['freeFlowTravelTime']])\n",
    "convert[['currentSpeed']] =  scaler_currentSpeed.fit_transform(convert[['currentSpeed']])\n"
   ]
  },
  {
   "cell_type": "code",
   "execution_count": 33,
   "id": "f5c622a3",
   "metadata": {},
   "outputs": [
    {
     "data": {
      "text/html": [
       "<div>\n",
       "<style scoped>\n",
       "    .dataframe tbody tr th:only-of-type {\n",
       "        vertical-align: middle;\n",
       "    }\n",
       "\n",
       "    .dataframe tbody tr th {\n",
       "        vertical-align: top;\n",
       "    }\n",
       "\n",
       "    .dataframe thead th {\n",
       "        text-align: right;\n",
       "    }\n",
       "</style>\n",
       "<table border=\"1\" class=\"dataframe\">\n",
       "  <thead>\n",
       "    <tr style=\"text-align: right;\">\n",
       "      <th></th>\n",
       "      <th>currentSpeed</th>\n",
       "      <th>freeFlowSpeed</th>\n",
       "      <th>currentTravelTime</th>\n",
       "      <th>freeFlowTravelTime</th>\n",
       "      <th>confidence</th>\n",
       "    </tr>\n",
       "    <tr>\n",
       "      <th>timestamp</th>\n",
       "      <th></th>\n",
       "      <th></th>\n",
       "      <th></th>\n",
       "      <th></th>\n",
       "      <th></th>\n",
       "    </tr>\n",
       "  </thead>\n",
       "  <tbody>\n",
       "    <tr>\n",
       "      <th>2021-04-26 0</th>\n",
       "      <td>1.000000</td>\n",
       "      <td>1.000000</td>\n",
       "      <td>0.000000</td>\n",
       "      <td>0.000000</td>\n",
       "      <td>0.860000</td>\n",
       "    </tr>\n",
       "    <tr>\n",
       "      <th>2021-04-26 15</th>\n",
       "      <td>0.838028</td>\n",
       "      <td>0.833333</td>\n",
       "      <td>0.057026</td>\n",
       "      <td>0.166667</td>\n",
       "      <td>0.958333</td>\n",
       "    </tr>\n",
       "    <tr>\n",
       "      <th>2021-04-26 16</th>\n",
       "      <td>0.774648</td>\n",
       "      <td>0.500000</td>\n",
       "      <td>0.083503</td>\n",
       "      <td>0.500000</td>\n",
       "      <td>0.965000</td>\n",
       "    </tr>\n",
       "    <tr>\n",
       "      <th>2021-04-26 17</th>\n",
       "      <td>0.577465</td>\n",
       "      <td>0.666667</td>\n",
       "      <td>0.152749</td>\n",
       "      <td>0.333333</td>\n",
       "      <td>0.966667</td>\n",
       "    </tr>\n",
       "    <tr>\n",
       "      <th>2021-04-26 18</th>\n",
       "      <td>0.309859</td>\n",
       "      <td>0.500000</td>\n",
       "      <td>0.281059</td>\n",
       "      <td>0.500000</td>\n",
       "      <td>0.970000</td>\n",
       "    </tr>\n",
       "  </tbody>\n",
       "</table>\n",
       "</div>"
      ],
      "text/plain": [
       "               currentSpeed  freeFlowSpeed  currentTravelTime  \\\n",
       "timestamp                                                       \n",
       "2021-04-26 0       1.000000       1.000000           0.000000   \n",
       "2021-04-26 15      0.838028       0.833333           0.057026   \n",
       "2021-04-26 16      0.774648       0.500000           0.083503   \n",
       "2021-04-26 17      0.577465       0.666667           0.152749   \n",
       "2021-04-26 18      0.309859       0.500000           0.281059   \n",
       "\n",
       "               freeFlowTravelTime  confidence  \n",
       "timestamp                                      \n",
       "2021-04-26 0             0.000000    0.860000  \n",
       "2021-04-26 15            0.166667    0.958333  \n",
       "2021-04-26 16            0.500000    0.965000  \n",
       "2021-04-26 17            0.333333    0.966667  \n",
       "2021-04-26 18            0.500000    0.970000  "
      ]
     },
     "execution_count": 33,
     "metadata": {},
     "output_type": "execute_result"
    }
   ],
   "source": [
    "convert.head()"
   ]
  },
  {
   "cell_type": "code",
   "execution_count": 34,
   "id": "4f59a26e",
   "metadata": {},
   "outputs": [
    {
     "data": {
      "text/html": [
       "<div>\n",
       "<style scoped>\n",
       "    .dataframe tbody tr th:only-of-type {\n",
       "        vertical-align: middle;\n",
       "    }\n",
       "\n",
       "    .dataframe tbody tr th {\n",
       "        vertical-align: top;\n",
       "    }\n",
       "\n",
       "    .dataframe thead th {\n",
       "        text-align: right;\n",
       "    }\n",
       "</style>\n",
       "<table border=\"1\" class=\"dataframe\">\n",
       "  <thead>\n",
       "    <tr style=\"text-align: right;\">\n",
       "      <th></th>\n",
       "      <th>freeFlowSpeed</th>\n",
       "      <th>currentTravelTime</th>\n",
       "      <th>freeFlowTravelTime</th>\n",
       "      <th>confidence</th>\n",
       "    </tr>\n",
       "    <tr>\n",
       "      <th>timestamp</th>\n",
       "      <th></th>\n",
       "      <th></th>\n",
       "      <th></th>\n",
       "      <th></th>\n",
       "    </tr>\n",
       "  </thead>\n",
       "  <tbody>\n",
       "    <tr>\n",
       "      <th>2021-05-07 18</th>\n",
       "      <td>0.500000</td>\n",
       "      <td>0.248473</td>\n",
       "      <td>0.500000</td>\n",
       "      <td>0.978333</td>\n",
       "    </tr>\n",
       "    <tr>\n",
       "      <th>2021-05-01 9</th>\n",
       "      <td>1.000000</td>\n",
       "      <td>0.000000</td>\n",
       "      <td>0.000000</td>\n",
       "      <td>0.970000</td>\n",
       "    </tr>\n",
       "    <tr>\n",
       "      <th>2021-05-04 22</th>\n",
       "      <td>1.000000</td>\n",
       "      <td>0.000000</td>\n",
       "      <td>0.000000</td>\n",
       "      <td>0.980000</td>\n",
       "    </tr>\n",
       "    <tr>\n",
       "      <th>2021-05-06 14</th>\n",
       "      <td>0.166667</td>\n",
       "      <td>0.124236</td>\n",
       "      <td>0.833333</td>\n",
       "      <td>0.983333</td>\n",
       "    </tr>\n",
       "    <tr>\n",
       "      <th>2021-04-27 6</th>\n",
       "      <td>1.000000</td>\n",
       "      <td>0.000000</td>\n",
       "      <td>0.000000</td>\n",
       "      <td>0.860000</td>\n",
       "    </tr>\n",
       "    <tr>\n",
       "      <th>...</th>\n",
       "      <td>...</td>\n",
       "      <td>...</td>\n",
       "      <td>...</td>\n",
       "      <td>...</td>\n",
       "    </tr>\n",
       "    <tr>\n",
       "      <th>2021-05-09 23</th>\n",
       "      <td>1.000000</td>\n",
       "      <td>0.000000</td>\n",
       "      <td>0.000000</td>\n",
       "      <td>0.980000</td>\n",
       "    </tr>\n",
       "    <tr>\n",
       "      <th>2021-05-07 3</th>\n",
       "      <td>1.000000</td>\n",
       "      <td>0.000000</td>\n",
       "      <td>0.000000</td>\n",
       "      <td>0.970000</td>\n",
       "    </tr>\n",
       "    <tr>\n",
       "      <th>2021-04-26 21</th>\n",
       "      <td>1.000000</td>\n",
       "      <td>0.000000</td>\n",
       "      <td>0.000000</td>\n",
       "      <td>0.960000</td>\n",
       "    </tr>\n",
       "    <tr>\n",
       "      <th>2021-05-11 2</th>\n",
       "      <td>1.000000</td>\n",
       "      <td>0.000000</td>\n",
       "      <td>0.000000</td>\n",
       "      <td>0.980000</td>\n",
       "    </tr>\n",
       "    <tr>\n",
       "      <th>2021-05-02 13</th>\n",
       "      <td>0.000000</td>\n",
       "      <td>0.012220</td>\n",
       "      <td>1.000000</td>\n",
       "      <td>0.980000</td>\n",
       "    </tr>\n",
       "  </tbody>\n",
       "</table>\n",
       "<p>165 rows × 4 columns</p>\n",
       "</div>"
      ],
      "text/plain": [
       "               freeFlowSpeed  currentTravelTime  freeFlowTravelTime  \\\n",
       "timestamp                                                             \n",
       "2021-05-07 18       0.500000           0.248473            0.500000   \n",
       "2021-05-01 9        1.000000           0.000000            0.000000   \n",
       "2021-05-04 22       1.000000           0.000000            0.000000   \n",
       "2021-05-06 14       0.166667           0.124236            0.833333   \n",
       "2021-04-27 6        1.000000           0.000000            0.000000   \n",
       "...                      ...                ...                 ...   \n",
       "2021-05-09 23       1.000000           0.000000            0.000000   \n",
       "2021-05-07 3        1.000000           0.000000            0.000000   \n",
       "2021-04-26 21       1.000000           0.000000            0.000000   \n",
       "2021-05-11 2        1.000000           0.000000            0.000000   \n",
       "2021-05-02 13       0.000000           0.012220            1.000000   \n",
       "\n",
       "               confidence  \n",
       "timestamp                  \n",
       "2021-05-07 18    0.978333  \n",
       "2021-05-01 9     0.970000  \n",
       "2021-05-04 22    0.980000  \n",
       "2021-05-06 14    0.983333  \n",
       "2021-04-27 6     0.860000  \n",
       "...                   ...  \n",
       "2021-05-09 23    0.980000  \n",
       "2021-05-07 3     0.970000  \n",
       "2021-04-26 21    0.960000  \n",
       "2021-05-11 2     0.980000  \n",
       "2021-05-02 13    0.980000  \n",
       "\n",
       "[165 rows x 4 columns]"
      ]
     },
     "execution_count": 34,
     "metadata": {},
     "output_type": "execute_result"
    }
   ],
   "source": [
    "y = convert['currentSpeed']\n",
    "x = convert.drop(columns = ['currentSpeed'])\n",
    "\n",
    "train_x, test_x, train_y, test_y = train_test_split(x, y, test_size = 0.3, random_state = 40)\n",
    "\n",
    "train_x"
   ]
  },
  {
   "cell_type": "code",
   "execution_count": 35,
   "id": "afa22bc8",
   "metadata": {},
   "outputs": [
    {
     "name": "stdout",
     "output_type": "stream",
     "text": [
      "<class 'pandas.core.frame.DataFrame'>\n",
      "Index: 236 entries, 2021-04-26 0 to 2021-05-12 9\n",
      "Data columns (total 5 columns):\n",
      " #   Column              Non-Null Count  Dtype  \n",
      "---  ------              --------------  -----  \n",
      " 0   currentSpeed        236 non-null    float64\n",
      " 1   freeFlowSpeed       236 non-null    float64\n",
      " 2   currentTravelTime   236 non-null    float64\n",
      " 3   freeFlowTravelTime  236 non-null    float64\n",
      " 4   confidence          236 non-null    float64\n",
      "dtypes: float64(5)\n",
      "memory usage: 21.1+ KB\n"
     ]
    }
   ],
   "source": [
    "convert.info()"
   ]
  },
  {
   "cell_type": "markdown",
   "id": "29e00db4",
   "metadata": {},
   "source": [
    "## Decision Tree"
   ]
  },
  {
   "cell_type": "code",
   "execution_count": 36,
   "id": "69e671a1",
   "metadata": {},
   "outputs": [
    {
     "name": "stdout",
     "output_type": "stream",
     "text": [
      "[0.72535211 0.21830986 1.         0.90140845 1.         0.95774648\n",
      " 0.26760563 1.         0.57746479 0.64788732 0.11971831 0.29577465\n",
      " 1.         1.         0.8028169  0.30985915 0.8943662  1.\n",
      " 0.70422535 0.50704225 0.72535211 1.         0.21830986 1.\n",
      " 0.65492958 1.         0.95774648 1.         1.         0.83098592\n",
      " 0.72535211 1.         0.77464789 0.23239437 0.38028169 0.8943662\n",
      " 0.11971831 1.         1.         0.95774648 1.         0.95774648\n",
      " 0.21830986 1.         0.95774648 0.36619718 1.         1.\n",
      " 1.         1.         0.95774648 0.95774648 1.         0.34507042\n",
      " 0.34507042 0.77464789 0.5        0.95774648 1.         1.\n",
      " 0.29577465 0.29577465 0.4084507  0.5        1.         0.85915493\n",
      " 1.         0.70422535 1.         0.71830986 0.78169014]\n"
     ]
    }
   ],
   "source": [
    "model_regression = DecisionTreeRegressor()\n",
    "\n",
    "model_regression.fit(train_x, train_y)\n",
    "predictions = model_regression.predict(test_x)\n",
    "print(predictions)\n",
    "\n",
    "score = model_regression.score(test_x, test_y)"
   ]
  },
  {
   "cell_type": "code",
   "execution_count": 37,
   "id": "298296f2",
   "metadata": {},
   "outputs": [
    {
     "name": "stdout",
     "output_type": "stream",
     "text": [
      "0.95 accuracy with a standard deviation of 0.06\n"
     ]
    }
   ],
   "source": [
    "scores = cross_val_score(model_regression, x, y, cv=20)\n",
    "\n",
    "print(\"%0.2f accuracy with a standard deviation of %0.2f\" % (scores.mean(), scores.std()))"
   ]
  },
  {
   "cell_type": "markdown",
   "id": "0ea7a935",
   "metadata": {},
   "source": [
    "## Other"
   ]
  },
  {
   "cell_type": "code",
   "execution_count": 38,
   "id": "c0265ef6",
   "metadata": {
    "scrolled": true
   },
   "outputs": [
    {
     "name": "stdout",
     "output_type": "stream",
     "text": [
      "MSE:  0.0713977310877703\n",
      "Score:  0.9277420704369714\n"
     ]
    }
   ],
   "source": [
    "model_regression_2 = DecisionTreeRegressor()\n",
    "\n",
    "model_regression_2.fit(train_x, train_y)\n",
    "predictions_2 = model_regression_2.predict(test_x)\n",
    "#print(predictions_2)\n",
    "\n",
    "print('MSE: ', np.sqrt(mean_squared_error(test_y,predictions_2))) \n",
    "print('Score: ', r2_score(test_y,predictions_2))"
   ]
  },
  {
   "cell_type": "code",
   "execution_count": 39,
   "id": "daf73380",
   "metadata": {},
   "outputs": [],
   "source": [
    "[test_y] = scaler_currentSpeed.inverse_transform([test_y])\n",
    "[train_y] = scaler_currentSpeed.inverse_transform([train_y])\n",
    "[predictions_2] = scaler_currentSpeed.inverse_transform([predictions_2])"
   ]
  },
  {
   "cell_type": "markdown",
   "id": "0d7e9cb5",
   "metadata": {},
   "source": [
    "## Predictions"
   ]
  },
  {
   "cell_type": "code",
   "execution_count": 40,
   "id": "33cfd954",
   "metadata": {
    "scrolled": false
   },
   "outputs": [
    {
     "data": {
      "image/png": "[encoded data removed]",
      "text/plain": [
       "<Figure size 1080x576 with 1 Axes>"
      ]
     },
     "metadata": {
      "needs_background": "light"
     },
     "output_type": "display_data"
    }
   ],
   "source": [
    "plt.figure(figsize = (15, 8))\n",
    "plt.plot(range(len(train_y[-24:])), train_y[-24:], label = 'Real', color = '#CBFF4D', \n",
    "             linewidth = 3)\n",
    "plt.plot(range(len(train_y[-24:]) - 1, len(train_y [-24:]) + len(test_y[:24]) - 1), test_y[:24], label = 'Real to Predict', \n",
    "             color = '#84DD63', linewidth = 3)\n",
    "plt.plot(range(len(train_y[-24:]) - 1, len(train_y [-24:]) + len(test_y[:24]) - 1), predictions_2[:24], label = 'Predicted', \n",
    "              color = '#6BAA75', linestyle= 'dotted',linewidth = 3)\n",
    "plt.title('Current Speed per hour')\n",
    "plt.ylabel('Current Speed Value')\n",
    "plt.xlabel('Hours per day')\n",
    "plt.legend()\n",
    "plt.show()"
   ]
  },
  {
   "cell_type": "code",
   "execution_count": null,
   "id": "37c63989",
   "metadata": {},
   "outputs": [],
   "source": []
  }
 ],
 "metadata": {
  "kernelspec": {
   "display_name": "Python 3",
   "language": "python",
   "name": "python3"
  },
  "language_info": {
   "codemirror_mode": {
    "name": "ipython",
    "version": 3
   },
   "file_extension": ".py",
   "mimetype": "text/x-python",
   "name": "python",
   "nbconvert_exporter": "python",
   "pygments_lexer": "ipython3",
   "version": "3.6.13"
  }
 },
 "nbformat": 4,
 "nbformat_minor": 5
}
